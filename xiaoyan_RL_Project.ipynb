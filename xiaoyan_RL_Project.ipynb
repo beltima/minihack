{
  "nbformat": 4,
  "nbformat_minor": 0,
  "metadata": {
    "colab": {
      "provenance": [],
      "include_colab_link": true
    },
    "kernelspec": {
      "name": "python3",
      "display_name": "Python 3"
    },
    "language_info": {
      "name": "python"
    }
  },
  "cells": [
    {
      "cell_type": "markdown",
      "metadata": {
        "id": "view-in-github",
        "colab_type": "text"
      },
      "source": [
        "<a href=\"https://colab.research.google.com/github/beltima/minihack/blob/main/xiaoyan_RL_Project.ipynb\" target=\"_parent\"><img src=\"https://colab.research.google.com/assets/colab-badge.svg\" alt=\"Open In Colab\"/></a>"
      ]
    },
    {
      "cell_type": "code",
      "source": [
        "# Tutorial\n",
        "# https://minihack.readthedocs.io/en/latest/tutorials/des_file_tutorial.html#The-Two-Types-of-des-files:-MAZE-and-ROOM"
      ],
      "metadata": {
        "id": "4ZpIjxH7lqxY"
      },
      "execution_count": null,
      "outputs": []
    },
    {
      "cell_type": "code",
      "source": [
        "!sudo apt-get install -y build-essential autoconf libtool pkg-config \\\n",
        "    python3-dev python3-pip python3-numpy git libncurses5-dev \\\n",
        "    libzmq3-dev flex bison\n",
        "!git clone https://github.com/google/flatbuffers.git\n",
        "!cd flatbuffers && cmake -G \"Unix Makefiles\" && make -j2 && sudo make install\n",
        "!pip install cmake #==3.15.3"
      ],
      "metadata": {
        "id": "pYGXfBSnnPFl",
        "colab": {
          "base_uri": "https://localhost:8080/"
        },
        "outputId": "aa4e41ce-39f9-4cc9-91b7-018bf44f039f"
      },
      "execution_count": null,
      "outputs": [
        {
          "output_type": "stream",
          "name": "stdout",
          "text": [
            "Reading package lists... Done\n",
            "Building dependency tree       \n",
            "Reading state information... Done\n",
            "autoconf is already the newest version (2.69-11.1).\n",
            "autoconf set to manually installed.\n",
            "libncurses5-dev is already the newest version (6.2-0ubuntu2).\n",
            "pkg-config is already the newest version (0.29.1-0ubuntu4).\n",
            "python3-dev is already the newest version (3.8.2-0ubuntu2).\n",
            "python3-dev set to manually installed.\n",
            "libzmq3-dev is already the newest version (4.3.2-2ubuntu1).\n",
            "build-essential is already the newest version (12.8ubuntu1.1).\n",
            "git is already the newest version (1:2.25.1-1ubuntu3.10).\n",
            "The following additional packages will be installed:\n",
            "  libfl-dev libfl2 python-pip-whl python3-setuptools python3-wheel\n",
            "Suggested packages:\n",
            "  bison-doc flex-doc libtool-doc gcj-jdk python-numpy-doc python3-pytest\n",
            "  python3-numpy-dbg python-setuptools-doc\n",
            "The following NEW packages will be installed:\n",
            "  bison flex libfl-dev libfl2 libtool python-pip-whl python3-numpy python3-pip\n",
            "  python3-setuptools python3-wheel\n",
            "0 upgraded, 10 newly installed, 0 to remove and 24 not upgraded.\n",
            "Need to get 6,264 kB of archives.\n",
            "After this operation, 23.9 MB of additional disk space will be used.\n",
            "Get:1 http://archive.ubuntu.com/ubuntu focal/main amd64 flex amd64 2.6.4-6.2 [317 kB]\n",
            "Get:2 http://archive.ubuntu.com/ubuntu focal/main amd64 bison amd64 2:3.5.1+dfsg-1 [657 kB]\n",
            "Get:3 http://archive.ubuntu.com/ubuntu focal/main amd64 libfl2 amd64 2.6.4-6.2 [11.5 kB]\n",
            "Get:4 http://archive.ubuntu.com/ubuntu focal/main amd64 libfl-dev amd64 2.6.4-6.2 [6,316 B]\n",
            "Get:5 http://archive.ubuntu.com/ubuntu focal/main amd64 libtool all 2.4.6-14 [161 kB]\n",
            "Get:6 http://archive.ubuntu.com/ubuntu focal-updates/universe amd64 python-pip-whl all 20.0.2-5ubuntu1.8 [1,805 kB]\n",
            "Get:7 http://archive.ubuntu.com/ubuntu focal-updates/main amd64 python3-numpy amd64 1:1.17.4-5ubuntu3.1 [2,724 kB]\n",
            "Get:8 http://archive.ubuntu.com/ubuntu focal-updates/main amd64 python3-setuptools all 45.2.0-1ubuntu0.1 [330 kB]\n",
            "Get:9 http://archive.ubuntu.com/ubuntu focal-updates/universe amd64 python3-wheel all 0.34.2-1ubuntu0.1 [23.9 kB]\n",
            "Get:10 http://archive.ubuntu.com/ubuntu focal-updates/universe amd64 python3-pip all 20.0.2-5ubuntu1.8 [231 kB]\n",
            "Fetched 6,264 kB in 1s (6,066 kB/s)\n",
            "debconf: unable to initialize frontend: Dialog\n",
            "debconf: (No usable dialog-like program is installed, so the dialog based frontend cannot be used. at /usr/share/perl5/Debconf/FrontEnd/Dialog.pm line 76, <> line 10.)\n",
            "debconf: falling back to frontend: Readline\n",
            "debconf: unable to initialize frontend: Readline\n",
            "debconf: (This frontend requires a controlling tty.)\n",
            "debconf: falling back to frontend: Teletype\n",
            "dpkg-preconfigure: unable to re-open stdin: \n",
            "Selecting previously unselected package flex.\n",
            "(Reading database ... 122349 files and directories currently installed.)\n",
            "Preparing to unpack .../0-flex_2.6.4-6.2_amd64.deb ...\n",
            "Unpacking flex (2.6.4-6.2) ...\n",
            "Selecting previously unselected package bison.\n",
            "Preparing to unpack .../1-bison_2%3a3.5.1+dfsg-1_amd64.deb ...\n",
            "Unpacking bison (2:3.5.1+dfsg-1) ...\n",
            "Selecting previously unselected package libfl2:amd64.\n",
            "Preparing to unpack .../2-libfl2_2.6.4-6.2_amd64.deb ...\n",
            "Unpacking libfl2:amd64 (2.6.4-6.2) ...\n",
            "Selecting previously unselected package libfl-dev:amd64.\n",
            "Preparing to unpack .../3-libfl-dev_2.6.4-6.2_amd64.deb ...\n",
            "Unpacking libfl-dev:amd64 (2.6.4-6.2) ...\n",
            "Selecting previously unselected package libtool.\n",
            "Preparing to unpack .../4-libtool_2.4.6-14_all.deb ...\n",
            "Unpacking libtool (2.4.6-14) ...\n",
            "Selecting previously unselected package python-pip-whl.\n",
            "Preparing to unpack .../5-python-pip-whl_20.0.2-5ubuntu1.8_all.deb ...\n",
            "Unpacking python-pip-whl (20.0.2-5ubuntu1.8) ...\n",
            "Selecting previously unselected package python3-numpy.\n",
            "Preparing to unpack .../6-python3-numpy_1%3a1.17.4-5ubuntu3.1_amd64.deb ...\n",
            "Unpacking python3-numpy (1:1.17.4-5ubuntu3.1) ...\n",
            "Selecting previously unselected package python3-setuptools.\n",
            "Preparing to unpack .../7-python3-setuptools_45.2.0-1ubuntu0.1_all.deb ...\n",
            "Unpacking python3-setuptools (45.2.0-1ubuntu0.1) ...\n",
            "Selecting previously unselected package python3-wheel.\n",
            "Preparing to unpack .../8-python3-wheel_0.34.2-1ubuntu0.1_all.deb ...\n",
            "Unpacking python3-wheel (0.34.2-1ubuntu0.1) ...\n",
            "Selecting previously unselected package python3-pip.\n",
            "Preparing to unpack .../9-python3-pip_20.0.2-5ubuntu1.8_all.deb ...\n",
            "Unpacking python3-pip (20.0.2-5ubuntu1.8) ...\n",
            "Setting up flex (2.6.4-6.2) ...\n",
            "Setting up python3-setuptools (45.2.0-1ubuntu0.1) ...\n",
            "Setting up libtool (2.4.6-14) ...\n",
            "Setting up python3-wheel (0.34.2-1ubuntu0.1) ...\n",
            "Setting up libfl2:amd64 (2.6.4-6.2) ...\n",
            "Setting up python3-numpy (1:1.17.4-5ubuntu3.1) ...\n",
            "Setting up bison (2:3.5.1+dfsg-1) ...\n",
            "update-alternatives: using /usr/bin/bison.yacc to provide /usr/bin/yacc (yacc) in auto mode\n",
            "Setting up python-pip-whl (20.0.2-5ubuntu1.8) ...\n",
            "Setting up libfl-dev:amd64 (2.6.4-6.2) ...\n",
            "Setting up python3-pip (20.0.2-5ubuntu1.8) ...\n",
            "Processing triggers for man-db (2.9.1-1) ...\n",
            "Processing triggers for libc-bin (2.31-0ubuntu9.9) ...\n",
            "Cloning into 'flatbuffers'...\n",
            "remote: Enumerating objects: 33182, done.\u001b[K\n",
            "remote: Counting objects: 100% (4894/4894), done.\u001b[K\n",
            "remote: Compressing objects: 100% (398/398), done.\u001b[K\n",
            "remote: Total 33182 (delta 4662), reused 4526 (delta 4493), pack-reused 28288\u001b[K\n",
            "Receiving objects: 100% (33182/33182), 19.06 MiB | 19.53 MiB/s, done.\n",
            "Resolving deltas: 100% (24067/24067), done.\n",
            "\u001b[33mCMake Warning:\n",
            "  No source or binary directory provided.  Both will be assumed to be the\n",
            "  same as the current working directory, but note that this warning will\n",
            "  become a fatal error in future CMake releases.\n",
            "\n",
            "\u001b[0m\n",
            "-- Proceeding with version: 23.3.3.18\n",
            "-- The CXX compiler identification is GNU 9.4.0\n",
            "-- Detecting CXX compiler ABI info\n",
            "-- Detecting CXX compiler ABI info - done\n",
            "-- Check for working CXX compiler: /usr/bin/c++ - skipped\n",
            "-- Detecting CXX compile features\n",
            "-- Detecting CXX compile features - done\n",
            "-- Looking for strtof_l\n",
            "-- Looking for strtof_l - found\n",
            "-- Looking for strtoull_l\n",
            "-- Looking for strtoull_l - found\n",
            "-- Looking for realpath\n",
            "-- Looking for realpath - found\n",
            "-- CMAKE_CXX_FLAGS: \n",
            "-- `tests/monster_test.fbs`: add generation of C++ code with '--no-includes;--gen-compare'\n",
            "-- `tests/monster_test.fbs`: add generation of binary (.bfbs) schema\n",
            "-- `tests/namespace_test/namespace_test1.fbs`: add generation of C++ code with '--no-includes;--gen-compare;--gen-name-strings'\n",
            "-- `tests/namespace_test/namespace_test2.fbs`: add generation of C++ code with '--no-includes;--gen-compare;--gen-name-strings'\n",
            "-- `tests/union_vector/union_vector.fbs`: add generation of C++ code with '--no-includes;--gen-compare;'\n",
            "-- `tests/optional_scalars.fbs`: add generation of C++ code with '--no-includes;--gen-compare'\n",
            "-- `tests/native_type_test.fbs`: add generation of C++ code with ''\n",
            "-- `tests/arrays_test.fbs`: add generation of C++ code with '--scoped-enums;--gen-compare'\n",
            "-- `tests/arrays_test.fbs`: add generation of binary (.bfbs) schema\n",
            "-- `tests/monster_test.fbs`: add generation of C++ embedded binary schema code with '--no-includes;--gen-compare'\n",
            "-- `tests/native_inline_table_test.fbs`: add generation of C++ code with '--no-includes;--gen-compare'\n",
            "-- `tests/alignment_test.fbs`: add generation of C++ code with '--no-includes;--gen-compare'\n",
            "-- `tests/key_field/key_field_sample.fbs`: add generation of C++ code with '--no-includes;--gen-compare'\n",
            "-- `tests/monster_extra.fbs`: add generation of C++ code with '--no-includes;--gen-compare'\n",
            "-- `samples/monster.fbs`: add generation of C++ code with '--no-includes;--gen-compare'\n",
            "-- `samples/monster.fbs`: add generation of binary (.bfbs) schema\n",
            "-- Configuring done\n",
            "-- Generating done\n",
            "-- Build files have been written to: /content/flatbuffers\n",
            "[  1%] \u001b[32mBuilding CXX object CMakeFiles/flatbuffers.dir/src/idl_parser.cpp.o\u001b[0m\n",
            "[  2%] \u001b[32mBuilding CXX object CMakeFiles/flatc.dir/src/idl_parser.cpp.o\u001b[0m\n",
            "[  3%] \u001b[32mBuilding CXX object CMakeFiles/flatc.dir/src/idl_gen_text.cpp.o\u001b[0m\n",
            "[  4%] \u001b[32mBuilding CXX object CMakeFiles/flatbuffers.dir/src/idl_gen_text.cpp.o\u001b[0m\n",
            "[  5%] \u001b[32mBuilding CXX object CMakeFiles/flatc.dir/src/reflection.cpp.o\u001b[0m\n",
            "[  6%] \u001b[32mBuilding CXX object CMakeFiles/flatbuffers.dir/src/reflection.cpp.o\u001b[0m\n",
            "[  7%] \u001b[32mBuilding CXX object CMakeFiles/flatc.dir/src/util.cpp.o\u001b[0m\n",
            "[  8%] \u001b[32mBuilding CXX object CMakeFiles/flatbuffers.dir/src/util.cpp.o\u001b[0m\n",
            "[  9%] \u001b[32mBuilding CXX object CMakeFiles/flatc.dir/src/idl_gen_binary.cpp.o\u001b[0m\n",
            "[ 10%] \u001b[32m\u001b[1mLinking CXX static library libflatbuffers.a\u001b[0m\n",
            "[ 10%] Built target flatbuffers\n",
            "[ 11%] \u001b[32mBuilding CXX object CMakeFiles/flathash.dir/src/flathash.cpp.o\u001b[0m\n",
            "[ 12%] \u001b[32m\u001b[1mLinking CXX executable flathash\u001b[0m\n",
            "[ 12%] Built target flathash\n",
            "[ 13%] \u001b[32mBuilding CXX object CMakeFiles/flatc.dir/src/idl_gen_cpp.cpp.o\u001b[0m\n",
            "[ 14%] \u001b[32mBuilding CXX object CMakeFiles/flatc.dir/src/idl_gen_csharp.cpp.o\u001b[0m\n",
            "[ 15%] \u001b[32mBuilding CXX object CMakeFiles/flatc.dir/src/idl_gen_dart.cpp.o\u001b[0m\n",
            "[ 16%] \u001b[32mBuilding CXX object CMakeFiles/flatc.dir/src/idl_gen_kotlin.cpp.o\u001b[0m\n",
            "[ 17%] \u001b[32mBuilding CXX object CMakeFiles/flatc.dir/src/idl_gen_go.cpp.o\u001b[0m\n",
            "[ 18%] \u001b[32mBuilding CXX object CMakeFiles/flatc.dir/src/idl_gen_java.cpp.o\u001b[0m\n",
            "[ 19%] \u001b[32mBuilding CXX object CMakeFiles/flatc.dir/src/idl_gen_ts.cpp.o\u001b[0m\n",
            "[ 20%] \u001b[32mBuilding CXX object CMakeFiles/flatc.dir/src/idl_gen_php.cpp.o\u001b[0m\n",
            "[ 21%] \u001b[32mBuilding CXX object CMakeFiles/flatc.dir/src/idl_gen_python.cpp.o\u001b[0m\n",
            "[ 22%] \u001b[32mBuilding CXX object CMakeFiles/flatc.dir/src/idl_gen_lobster.cpp.o\u001b[0m\n",
            "[ 23%] \u001b[32mBuilding CXX object CMakeFiles/flatc.dir/src/idl_gen_lua.cpp.o\u001b[0m\n",
            "[ 24%] \u001b[32mBuilding CXX object CMakeFiles/flatc.dir/src/idl_gen_rust.cpp.o\u001b[0m\n",
            "[ 25%] \u001b[32mBuilding CXX object CMakeFiles/flatc.dir/src/idl_gen_fbs.cpp.o\u001b[0m\n",
            "[ 26%] \u001b[32mBuilding CXX object CMakeFiles/flatc.dir/src/idl_gen_grpc.cpp.o\u001b[0m\n",
            "[ 27%] \u001b[32mBuilding CXX object CMakeFiles/flatc.dir/src/idl_gen_json_schema.cpp.o\u001b[0m\n",
            "[ 28%] \u001b[32mBuilding CXX object CMakeFiles/flatc.dir/src/idl_gen_swift.cpp.o\u001b[0m\n",
            "[ 29%] \u001b[32mBuilding CXX object CMakeFiles/flatc.dir/src/file_name_saving_file_manager.cpp.o\u001b[0m\n",
            "[ 30%] \u001b[32mBuilding CXX object CMakeFiles/flatc.dir/src/file_binary_writer.cpp.o\u001b[0m\n",
            "[ 31%] \u001b[32mBuilding CXX object CMakeFiles/flatc.dir/src/file_writer.cpp.o\u001b[0m\n",
            "[ 32%] \u001b[32mBuilding CXX object CMakeFiles/flatc.dir/src/flatc.cpp.o\u001b[0m\n",
            "[ 33%] \u001b[32mBuilding CXX object CMakeFiles/flatc.dir/src/flatc_main.cpp.o\u001b[0m\n",
            "[ 34%] \u001b[32mBuilding CXX object CMakeFiles/flatc.dir/src/binary_annotator.cpp.o\u001b[0m\n",
            "[ 35%] \u001b[32mBuilding CXX object CMakeFiles/flatc.dir/src/annotated_binary_text_gen.cpp.o\u001b[0m\n",
            "[ 36%] \u001b[32mBuilding CXX object CMakeFiles/flatc.dir/src/bfbs_gen_lua.cpp.o\u001b[0m\n",
            "[ 37%] \u001b[32mBuilding CXX object CMakeFiles/flatc.dir/src/bfbs_gen_nim.cpp.o\u001b[0m\n",
            "[ 38%] \u001b[32mBuilding CXX object CMakeFiles/flatc.dir/src/code_generators.cpp.o\u001b[0m\n",
            "[ 39%] \u001b[32mBuilding CXX object CMakeFiles/flatc.dir/grpc/src/compiler/cpp_generator.cc.o\u001b[0m\n",
            "[ 40%] \u001b[32mBuilding CXX object CMakeFiles/flatc.dir/grpc/src/compiler/go_generator.cc.o\u001b[0m\n",
            "[ 41%] \u001b[32mBuilding CXX object CMakeFiles/flatc.dir/grpc/src/compiler/java_generator.cc.o\u001b[0m\n",
            "[ 42%] \u001b[32mBuilding CXX object CMakeFiles/flatc.dir/grpc/src/compiler/python_generator.cc.o\u001b[0m\n",
            "[ 43%] \u001b[32mBuilding CXX object CMakeFiles/flatc.dir/grpc/src/compiler/swift_generator.cc.o\u001b[0m\n",
            "[ 44%] \u001b[32mBuilding CXX object CMakeFiles/flatc.dir/grpc/src/compiler/ts_generator.cc.o\u001b[0m\n",
            "[ 45%] \u001b[32m\u001b[1mLinking CXX executable flatc\u001b[0m\n",
            "[ 45%] Built target flatc\n",
            "[ 46%] \u001b[34m\u001b[1mRun generation: 'samples/monster.bfbs'\u001b[0m\n",
            "[ 47%] \u001b[34m\u001b[1mRun generation: 'tests/monster_test_generated.h'\u001b[0m\n",
            "[ 48%] \u001b[34m\u001b[1mRun generation: 'tests/monster_test.bfbs'\u001b[0m\n",
            "[ 49%] \u001b[34m\u001b[1mRun generation: 'tests/namespace_test/namespace_test1_generated.h'\u001b[0m\n",
            "[ 50%] \u001b[34m\u001b[1mRun generation: 'tests/namespace_test/namespace_test2_generated.h'\u001b[0m\n",
            "[ 51%] \u001b[34m\u001b[1mRun generation: 'tests/union_vector/union_vector_generated.h'\u001b[0m\n",
            "[ 52%] \u001b[34m\u001b[1mRun generation: 'tests/optional_scalars_generated.h'\u001b[0m\n",
            "[ 53%] \u001b[34m\u001b[1mRun generation: 'tests/native_type_test_generated.h'\u001b[0m\n",
            "[ 54%] \u001b[34m\u001b[1mRun generation: 'tests/arrays_test_generated.h'\u001b[0m\n",
            "[ 55%] \u001b[34m\u001b[1mRun generation: 'tests/arrays_test.bfbs'\u001b[0m\n",
            "[ 56%] \u001b[34m\u001b[1mRun generation: 'tests/monster_test_bfbs_generated.h'\u001b[0m\n",
            "[ 57%] \u001b[34m\u001b[1mRun generation: 'tests/native_inline_table_test_generated.h'\u001b[0m\n",
            "[ 58%] \u001b[34m\u001b[1mRun generation: 'tests/alignment_test_generated.h'\u001b[0m\n",
            "[ 59%] \u001b[34m\u001b[1mRun generation: 'tests/key_field/key_field_sample_generated.h'\u001b[0m\n",
            "[ 60%] \u001b[34m\u001b[1mRun generation: 'tests/monster_extra_generated.h'\u001b[0m\n",
            "[ 61%] \u001b[34m\u001b[1mRun generation: 'samples/monster_generated.h'\u001b[0m\n",
            "[ 62%] \u001b[34m\u001b[1mAll generated files were updated.\u001b[0m\n",
            "[ 62%] Built target generated_code\n",
            "[ 63%] \u001b[32mBuilding CXX object CMakeFiles/flatsamplebinary.dir/samples/sample_binary.cpp.o\u001b[0m\n",
            "[ 64%] \u001b[32mBuilding CXX object CMakeFiles/flattests.dir/src/idl_parser.cpp.o\u001b[0m\n",
            "[ 65%] \u001b[32m\u001b[1mLinking CXX executable flatsamplebinary\u001b[0m\n",
            "[ 65%] Built target flatsamplebinary\n",
            "[ 66%] \u001b[32mBuilding CXX object CMakeFiles/flatsampletext.dir/src/idl_parser.cpp.o\u001b[0m\n",
            "[ 67%] \u001b[32mBuilding CXX object CMakeFiles/flattests.dir/src/idl_gen_text.cpp.o\u001b[0m\n",
            "[ 68%] \u001b[32mBuilding CXX object CMakeFiles/flatsampletext.dir/src/idl_gen_text.cpp.o\u001b[0m\n",
            "[ 69%] \u001b[32mBuilding CXX object CMakeFiles/flattests.dir/src/reflection.cpp.o\u001b[0m\n",
            "[ 70%] \u001b[32mBuilding CXX object CMakeFiles/flatsampletext.dir/src/reflection.cpp.o\u001b[0m\n",
            "[ 71%] \u001b[32mBuilding CXX object CMakeFiles/flattests.dir/src/util.cpp.o\u001b[0m\n",
            "[ 72%] \u001b[32mBuilding CXX object CMakeFiles/flattests.dir/src/idl_gen_fbs.cpp.o\u001b[0m\n",
            "[ 73%] \u001b[32mBuilding CXX object CMakeFiles/flatsampletext.dir/src/util.cpp.o\u001b[0m\n",
            "[ 74%] \u001b[32mBuilding CXX object CMakeFiles/flatsampletext.dir/samples/sample_text.cpp.o\u001b[0m\n",
            "[ 75%] \u001b[32mBuilding CXX object CMakeFiles/flattests.dir/tests/evolution_test.cpp.o\u001b[0m\n",
            "[ 76%] \u001b[32m\u001b[1mLinking CXX executable flatsampletext\u001b[0m\n",
            "[ 76%] Built target flatsampletext\n",
            "[ 77%] \u001b[32mBuilding CXX object CMakeFiles/flatsamplebfbs.dir/src/idl_parser.cpp.o\u001b[0m\n",
            "[ 78%] \u001b[32mBuilding CXX object CMakeFiles/flattests.dir/tests/flexbuffers_test.cpp.o\u001b[0m\n",
            "[ 79%] \u001b[32mBuilding CXX object CMakeFiles/flattests.dir/tests/fuzz_test.cpp.o\u001b[0m\n",
            "[ 80%] \u001b[32mBuilding CXX object CMakeFiles/flattests.dir/tests/json_test.cpp.o\u001b[0m\n",
            "[ 81%] \u001b[32mBuilding CXX object CMakeFiles/flatsamplebfbs.dir/src/idl_gen_text.cpp.o\u001b[0m\n",
            "[ 82%] \u001b[32mBuilding CXX object CMakeFiles/flattests.dir/tests/key_field_test.cpp.o\u001b[0m\n",
            "[ 83%] \u001b[32mBuilding CXX object CMakeFiles/flatsamplebfbs.dir/src/reflection.cpp.o\u001b[0m\n",
            "[ 84%] \u001b[32mBuilding CXX object CMakeFiles/flattests.dir/tests/monster_test.cpp.o\u001b[0m\n",
            "[ 85%] \u001b[32mBuilding CXX object CMakeFiles/flatsamplebfbs.dir/src/util.cpp.o\u001b[0m\n",
            "[ 86%] \u001b[32mBuilding CXX object CMakeFiles/flatsamplebfbs.dir/samples/sample_bfbs.cpp.o\u001b[0m\n",
            "[ 87%] \u001b[32m\u001b[1mLinking CXX executable flatsamplebfbs\u001b[0m\n",
            "[ 87%] Built target flatsamplebfbs\n",
            "[ 88%] \u001b[32mBuilding CXX object CMakeFiles/flattests.dir/tests/optional_scalars_test.cpp.o\u001b[0m\n"
          ]
        }
      ]
    },
    {
      "cell_type": "code",
      "source": [
        "! pip install minihack"
      ],
      "metadata": {
        "colab": {
          "base_uri": "https://localhost:8080/"
        },
        "id": "KMfoc_LUlvzk",
        "outputId": "290ec473-c826-4a10-efbb-697390b785df"
      },
      "execution_count": null,
      "outputs": [
        {
          "output_type": "stream",
          "name": "stdout",
          "text": [
            "Looking in indexes: https://pypi.org/simple, https://us-python.pkg.dev/colab-wheels/public/simple/\n",
            "Collecting minihack\n",
            "  Downloading minihack-0.1.5.tar.gz (227 kB)\n",
            "\u001b[?25l     \u001b[90m━━━━━━━━━━━━━━━━━━━━━━━━━━━━━━━━━━━━━━━━\u001b[0m \u001b[32m0.0/227.4 KB\u001b[0m \u001b[31m?\u001b[0m eta \u001b[36m-:--:--\u001b[0m\r\u001b[2K     \u001b[90m━━━━━━━━━━━━━━━━━━━━━━━━━━━━━━━━━━━━━━\u001b[0m \u001b[32m227.4/227.4 KB\u001b[0m \u001b[31m13.9 MB/s\u001b[0m eta \u001b[36m0:00:00\u001b[0m\n",
            "\u001b[?25h  Installing build dependencies ... \u001b[?25l\u001b[?25hdone\n",
            "  Getting requirements to build wheel ... \u001b[?25l\u001b[?25hdone\n",
            "  Preparing metadata (pyproject.toml) ... \u001b[?25l\u001b[?25hdone\n",
            "Collecting nle==0.9.0\n",
            "  Downloading nle-0.9.0.tar.gz (7.0 MB)\n",
            "\u001b[2K     \u001b[90m━━━━━━━━━━━━━━━━━━━━━━━━━━━━━━━━━━━━━━━━\u001b[0m \u001b[32m7.0/7.0 MB\u001b[0m \u001b[31m80.0 MB/s\u001b[0m eta \u001b[36m0:00:00\u001b[0m\n",
            "\u001b[?25h  Installing build dependencies ... \u001b[?25l\u001b[?25hdone\n",
            "  Getting requirements to build wheel ... \u001b[?25l\u001b[?25hdone\n",
            "  Installing backend dependencies ... \u001b[?25l\u001b[?25hdone\n",
            "  Preparing metadata (pyproject.toml) ... \u001b[?25l\u001b[?25hdone\n",
            "Requirement already satisfied: numpy>=1.16 in /usr/local/lib/python3.9/dist-packages (from minihack) (1.22.4)\n",
            "Collecting gym<=0.23,>=0.15\n",
            "  Downloading gym-0.23.0.tar.gz (624 kB)\n",
            "\u001b[2K     \u001b[90m━━━━━━━━━━━━━━━━━━━━━━━━━━━━━━━━━━━━━━\u001b[0m \u001b[32m624.4/624.4 KB\u001b[0m \u001b[31m27.4 MB/s\u001b[0m eta \u001b[36m0:00:00\u001b[0m\n",
            "\u001b[?25h  Installing build dependencies ... \u001b[?25l\u001b[?25hdone\n",
            "  Getting requirements to build wheel ... \u001b[?25l\u001b[?25hdone\n",
            "  Preparing metadata (pyproject.toml) ... \u001b[?25l\u001b[?25hdone\n",
            "Collecting pybind11>=2.2\n",
            "  Using cached pybind11-2.10.4-py3-none-any.whl (222 kB)\n",
            "Requirement already satisfied: cloudpickle>=1.2.0 in /usr/local/lib/python3.9/dist-packages (from gym<=0.23,>=0.15->minihack) (2.2.1)\n",
            "Requirement already satisfied: gym-notices>=0.0.4 in /usr/local/lib/python3.9/dist-packages (from gym<=0.23,>=0.15->minihack) (0.0.8)\n",
            "Requirement already satisfied: importlib-metadata>=4.10.0 in /usr/local/lib/python3.9/dist-packages (from gym<=0.23,>=0.15->minihack) (6.1.0)\n",
            "Requirement already satisfied: zipp>=0.5 in /usr/local/lib/python3.9/dist-packages (from importlib-metadata>=4.10.0->gym<=0.23,>=0.15->minihack) (3.15.0)\n",
            "Building wheels for collected packages: minihack, nle, gym\n",
            "  Building wheel for minihack (pyproject.toml) ... \u001b[?25l\u001b[?25hdone\n",
            "  Created wheel for minihack: filename=minihack-0.1.5-py3-none-any.whl size=265186 sha256=b6c5e1091ecec58aa06b27c61406c958347e029d2aeffc66bf70f96016c5b0d6\n",
            "  Stored in directory: /root/.cache/pip/wheels/b5/f3/e7/21eecbfb79e7a611d560749856b9ba5d4178b55f55ac9d5c49\n",
            "  Building wheel for nle (pyproject.toml) ... \u001b[?25l\u001b[?25hdone\n",
            "  Created wheel for nle: filename=nle-0.9.0-cp39-cp39-linux_x86_64.whl size=2972776 sha256=64867491a3a7f7dae4c3748e97aeeb2fb92457ae161236d381fe89321507f453\n",
            "  Stored in directory: /root/.cache/pip/wheels/ca/5f/a0/5651e1ff49792e86373e273f465a607e6e18127da7998403f0\n",
            "  Building wheel for gym (pyproject.toml) ... \u001b[?25l\u001b[?25hdone\n",
            "  Created wheel for gym: filename=gym-0.23.0-py3-none-any.whl size=697658 sha256=62998856622b0fe40276cf5dbc96ed8cf1991d4f800ef3a43597477d3be90c25\n",
            "  Stored in directory: /root/.cache/pip/wheels/96/b9/bb/994c1324b65e39dd1cd7b8ba92e5fb766dd77980929414a866\n",
            "Successfully built minihack nle gym\n",
            "Installing collected packages: pybind11, gym, nle, minihack\n",
            "  Attempting uninstall: gym\n",
            "    Found existing installation: gym 0.25.2\n",
            "    Uninstalling gym-0.25.2:\n",
            "      Successfully uninstalled gym-0.25.2\n",
            "Successfully installed gym-0.23.0 minihack-0.1.5 nle-0.9.0 pybind11-2.10.4\n"
          ]
        }
      ]
    },
    {
      "cell_type": "code",
      "source": [
        "# Copyright (c) Facebook, Inc. and its affiliates.\n",
        "\n",
        "from minihack import MiniHackSkill\n",
        "from nle.nethack.actions import MiscDirection\n",
        "import PIL.Image\n",
        "import PIL.ImageChops\n",
        "import math\n",
        "\n",
        "\n",
        "def get_image(pixel_obs, full_screen=False, resize=None, relative=False):\n",
        "    image = PIL.Image.fromarray(pixel_obs)\n",
        "    if not full_screen:\n",
        "        bg = PIL.Image.new(image.mode, image.size, image.getpixel((0, 0)))\n",
        "        diff = PIL.ImageChops.difference(image, bg)\n",
        "        diff = PIL.ImageChops.add(diff, diff, 2.0, -100)\n",
        "        bbox = diff.getbbox()\n",
        "        if bbox:\n",
        "            image = image.crop(bbox)\n",
        "\n",
        "    if resize is not None:\n",
        "        x_resize, y_resize = resize\n",
        "        if relative:\n",
        "            image = image.resize(\n",
        "                (int(image.width * x_resize), int(image.height * y_resize))\n",
        "            )\n",
        "        else:\n",
        "            image = image.resize((x_resize, y_resize))\n",
        "\n",
        "    return image\n",
        "\n",
        "\n",
        "def get_des_file_rendering(\n",
        "    des_file,\n",
        "    n_images=1,\n",
        "    full_screen=False,\n",
        "    full_obs=True,\n",
        "    resize=None,\n",
        "    relative=True,\n",
        "    wizard=False,\n",
        "):\n",
        "    class MHCustom(MiniHackSkill):\n",
        "        def __init__(self, *args, **kwargs):\n",
        "            super().__init__(*args, des_file=des_file, **kwargs)\n",
        "\n",
        "    def get_pixel_obs(env, full_obs=True):\n",
        "        obs = env.reset()\n",
        "        if full_obs and wizard:\n",
        "            for c in (\n",
        "                \"#wizintrinsic\\rt\\r\\r#wizmap\\r#wizwish\\r\"\n",
        "                + \"a potion of object detection\\r\"\n",
        "            ):\n",
        "                obs, sds = env.env.step(ord(c))\n",
        "            msg = (\n",
        "                obs[env._original_observation_keys.index(\"message\")]\n",
        "                .tobytes()\n",
        "                .decode(\"utf-8\")\n",
        "            )\n",
        "\n",
        "            for c in f\"q{msg[0]}\":\n",
        "                obs, sds = env.env.step(ord(c))\n",
        "\n",
        "            obs, _, _, _ = env.step(env._actions.index(MiscDirection.WAIT))\n",
        "        return obs\n",
        "\n",
        "    env = MHCustom(\n",
        "        savedir=None,\n",
        "        observation_keys=(\"pixel\",),\n",
        "        wizard=wizard,\n",
        "    )\n",
        "    if n_images == 1:\n",
        "        obs = get_pixel_obs(env, full_obs=full_obs)\n",
        "        image = get_image(\n",
        "            obs[\"pixel\"],\n",
        "            full_screen=full_screen,\n",
        "            resize=resize,\n",
        "            relative=relative,\n",
        "        )\n",
        "        return image\n",
        "    else:\n",
        "        images = []\n",
        "        for _i in range(n_images):\n",
        "            obs = get_pixel_obs(env, full_obs=full_obs)\n",
        "            images.append(\n",
        "                get_image(\n",
        "                    obs[\"pixel\"],\n",
        "                    resize=resize,\n",
        "                    relative=relative,\n",
        "                    full_screen=full_screen,\n",
        "                )\n",
        "            )\n",
        "        width = images[0].width\n",
        "        height = images[0].height\n",
        "        result = PIL.Image.new(\n",
        "            \"RGB\",\n",
        "            ((width * 3) + 10, ((height + 5) * math.ceil(n_images / 3)) - 5),\n",
        "            color=(200, 200, 200),\n",
        "        )\n",
        "        for j in range(math.ceil(n_images / 3)):\n",
        "            for i in range(3):\n",
        "                try:\n",
        "                    result.paste(\n",
        "                        images[(j * 3) + i],\n",
        "                        ((width + 5) * i, (height + 5) * j),\n",
        "                    )\n",
        "                except IndexError:\n",
        "                    return result\n",
        "        return result"
      ],
      "metadata": {
        "id": "QoPODv2l3ULO"
      },
      "execution_count": null,
      "outputs": []
    },
    {
      "cell_type": "markdown",
      "source": [
        "# Explore the environment"
      ],
      "metadata": {
        "id": "x8UHuUVSqDKy"
      }
    },
    {
      "cell_type": "markdown",
      "source": [
        "Tutorial: https://minihack.readthedocs.io/en/latest/tutorials/des_file_tutorial.html"
      ],
      "metadata": {
        "id": "b7bqIyJI8C1p"
      }
    },
    {
      "cell_type": "code",
      "execution_count": null,
      "metadata": {
        "id": "V7cijP3-lTQ9"
      },
      "outputs": [],
      "source": [
        "# Importing helper visualisation functions\n",
        "from minihack.tiles.rendering import get_des_file_rendering\n",
        "\n",
        "import IPython.display\n",
        "def render_des_file(des_file, **kwargs):\n",
        "    image = get_des_file_rendering(des_file, **kwargs)\n",
        "    IPython.display.display(image)"
      ]
    },
    {
      "cell_type": "code",
      "source": [
        "# Maze type\n",
        "des_file = \"\"\"\n",
        "MAZE: \"mylevel\", ' '\n",
        "FLAGS:premapped\n",
        "GEOMETRY:center,center\n",
        "MAP\n",
        "|-----     ------\n",
        "|.....-- --.....|\n",
        "|.T.T...-....K..|\n",
        "|.......+.......|\n",
        "|.T.T...-.......|\n",
        "|.....-----.....|\n",
        "|-----     ------\n",
        "ENDMAP\n",
        "BRANCH: (3,3,3,3),(4,4,4,4)\n",
        "\"\"\"\n",
        "render_des_file(des_file, n_images=3, full_screen=False)"
      ],
      "metadata": {
        "colab": {
          "base_uri": "https://localhost:8080/",
          "height": 128
        },
        "id": "jFvz8oGTvFng",
        "outputId": "23b45c04-42bf-493a-9274-488e3aad5260"
      },
      "execution_count": null,
      "outputs": [
        {
          "output_type": "display_data",
          "data": {
            "text/plain": [
              "<PIL.Image.Image image mode=RGB size=826x111 at 0x7FC0B295A220>"
            ],
            "image/png": "[encoded data removed]"
          },
          "metadata": {}
        }
      ]
    },
    {
      "cell_type": "code",
      "source": [
        "des_file = \"\"\"\n",
        "MAZE: \"mylevel\",' '\n",
        "GEOMETRY:center,center\n",
        "MAP\n",
        "-------------\n",
        "|.....|.....|\n",
        "|.....|.....|\n",
        "|.....+.....|\n",
        "|.....|.....|\n",
        "|.....|.....|\n",
        "-------------\n",
        "ENDMAP\n",
        "REGION:(0,0,12,6),lit,\"ordinary\"\n",
        "BRANCH:(1,1,6,6),(0,0,0,0) \n",
        "DOOR:locked,(6,3)\n",
        "STAIR:(8,3),down\n",
        "\"\"\"\n",
        "render_des_file(des_file, n_images=1, full_screen=False)"
      ],
      "metadata": {
        "colab": {
          "base_uri": "https://localhost:8080/",
          "height": 128
        },
        "id": "tKlWELKrGHpe",
        "outputId": "032d3352-6498-4ba9-989c-392f7523cac4"
      },
      "execution_count": null,
      "outputs": [
        {
          "output_type": "display_data",
          "data": {
            "text/plain": [
              "<PIL.Image.Image image mode=RGB size=128x111 at 0x7FC0B2950D60>"
            ],
            "image/png": "[encoded data removed]"
          },
          "metadata": {}
        }
      ]
    },
    {
      "cell_type": "markdown",
      "source": [
        "MAZE: \"mylevel\",' '：定义了一个名为 mylevel 的迷宫，并将墙壁字符设置为空格。\n",
        "\n",
        "GEOMETRY:center,center：将迷宫在屏幕中央居中。\n",
        "MAP：开始定义迷宫的地图布局。\n",
        "\n",
        "```\n",
        "-------------：定义迷宫地图的顶部和底部墙壁。\n",
        "|.....|.....|：定义两个房间，用中央的竖线进行分隔，每个房间中间有一扇门。\n",
        "|.....|.....|\n",
        "|.....+.....|：定义连接两个房间的门，中心位置用 + 表示。\n",
        "|.....|.....|：与第4行相同。\n",
        "|.....|.....|\n",
        "-------------：定义迷宫地图的顶部和底部墙壁。\n",
        "```\n",
        "ENDMAP：结束地图布局的定义。\n",
        "\n",
        "REGION:(0,0,12,6),lit,\"ordinary\"：定义区域 (0,0)-(12,6)，使其在探索时始终可见（lit指照明状态），并将其标记为 \"ordinary\" 类型的区域。\n",
        "\n",
        "BRANCH:(1,1,6,6),(0,0,0,0)：定义一个分支，其中 (1,1) 表示生成代理的位置，而 (6,6) 表示分支的另一端位置，即两个对角点确定一个区域。 (0,0,0,0) 表示此分支中代理不能访问的任何位置。\n",
        "\n",
        "DOOR:locked,(6,3)：在 (6,3) 处创建一扇锁定的门，必须使用合适的钥匙才能打开。\n",
        "\n",
        "STAIR:(8,3),down：在 (8,3) 处创建一个向下的楼梯，代理可以使用它进入下一个地下层。"
      ],
      "metadata": {
        "id": "EPQ0qjrfG9js"
      }
    },
    {
      "cell_type": "markdown",
      "source": [
        "Components(wall, corridor, etc.): https://nethackwiki.com/wiki/Des-file_format#Map_characters"
      ],
      "metadata": {
        "id": "u5DbR7dz9Ahm"
      }
    },
    {
      "cell_type": "markdown",
      "source": [
        "\n",
        "```\n",
        "Terrains = [\n",
        "    \" \",  # solid wall\n",
        "    \"#\",  # corridor\n",
        "    \".\",  # room floor (Unlit, unless lit with REGION-command)\n",
        "    \"-\",  # horizontal wall\n",
        "    \"|\",  # vertical wall\n",
        "    \"+\",  # door (State is defined with DOOR -command)\n",
        "    \"A\",  # air\n",
        "    \"B\",  # crosswall / boundary symbol hack (See REGION)\n",
        "    \"C\",  # cloud\n",
        "    \"S\",  # secret door\n",
        "    \"H\",  # secret corridor\n",
        "    \"{\",  # fountain\n",
        "    \"\\\\\", # throne\n",
        "    \"K\",  # sink\n",
        "    \"}\",  # moat\n",
        "    \"P\",  # pool of water\n",
        "    \"L\",  # lava pool\n",
        "    \"I\",  # ice\n",
        "    \"W\",  # water\n",
        "    \"T\",  # tree\n",
        "    \"F\",  # iron bars\n",
        "]\n",
        "```\n",
        "\n"
      ],
      "metadata": {
        "id": "LUAMWR8F_8Fj"
      }
    },
    {
      "cell_type": "code",
      "source": [
        "# Room type\n",
        "des_file = \"\"\"  \n",
        "LEVEL: \"mylevel\"\n",
        "FLAGS: premapped\n",
        "\n",
        "ROOM: \"ordinary\" , lit, (3,3), (center,center), (5,5) {\n",
        "    SUBROOM: \"ordinary\", lit, (0,0), (2,2) {\n",
        "    }\n",
        "}\n",
        "\n",
        "RANDOM_CORRIDORS\n",
        "\"\"\"\n",
        "render_des_file(des_file, n_images=3, full_screen=False)"
      ],
      "metadata": {
        "colab": {
          "base_uri": "https://localhost:8080/",
          "height": 128
        },
        "id": "RDfk0hOD8rhf",
        "outputId": "54f1bc8b-d63d-44b1-b7de-1390ed960e6c"
      },
      "execution_count": null,
      "outputs": [
        {
          "output_type": "display_data",
          "data": {
            "text/plain": [
              "<PIL.Image.Image image mode=RGB size=346x111 at 0x7FC0B297D160>"
            ],
            "image/png": "[encoded data removed]"
          },
          "metadata": {}
        }
      ]
    },
    {
      "cell_type": "code",
      "source": [
        "# Monsters\n",
        "des_file = \"\"\"\n",
        "LEVEL: \"mylevel\"\n",
        "FLAGS: premapped\n",
        "REGION: (0,0,20,80), lit, \"ordinary\"\n",
        "\n",
        "ROOM: \"ordinary\", lit, random, (center,center), (15,15) {\n",
        "    OBJECT:('%', \"food ration\"), random\n",
        "    OBJECT:'*', (10,10)\n",
        "    OBJECT :('\"', \"amulet of life saving\"), random\n",
        "    OBJECT:('%', \"corpse\"), random\n",
        "    OBJECT:('`', \"statue\"), (0,0), montype:\"forest centaur\", 1\n",
        "    OBJECT:('(', \"crystal ball\"), (17,08), blessed, 5,name:\"The Orb of Fate\"\n",
        "    OBJECT:('%',\"egg\"), (05,04), montype:\"yellow dragon\"\n",
        "}\n",
        "\n",
        "RANDOM_CORRIDORS\n",
        "\"\"\"\n",
        "render_des_file(des_file, n_images=3)"
      ],
      "metadata": {
        "colab": {
          "base_uri": "https://localhost:8080/",
          "height": 288
        },
        "id": "ZDtmCMuM_M8H",
        "outputId": "8401460b-bdcb-40bc-cfc6-dc5905c15ee4"
      },
      "execution_count": null,
      "outputs": [
        {
          "output_type": "display_data",
          "data": {
            "text/plain": [
              "<PIL.Image.Image image mode=RGB size=826x271 at 0x7FC0B297D340>"
            ],
            "image/png": "[encoded data removed]"
          },
          "metadata": {}
        }
      ]
    },
    {
      "cell_type": "markdown",
      "source": [
        "# Build the evironment"
      ],
      "metadata": {
        "id": "SEh-edZgqAQz"
      }
    },
    {
      "cell_type": "code",
      "source": [
        "import gym\n",
        "import minihack\n",
        "\n",
        "des_file = \"\"\"\n",
        "MAZE: \"mylevel\",' '\n",
        "GEOMETRY:center,center\n",
        "MAP\n",
        "-------------\n",
        "|.....|.....|\n",
        "|.....|.....|\n",
        "|.....+.....|\n",
        "|.....|.....|\n",
        "|.....|.....|\n",
        "-------------\n",
        "ENDMAP\n",
        "REGION:(0,0,12,6),lit,\"ordinary\"\n",
        "BRANCH:(1,1,6,6),(0,0,0,0)\n",
        "DOOR:locked,(6,3)\n",
        "STAIR:(8,3),down\n",
        "\"\"\"\n",
        "env = gym.make(\n",
        "    \"MiniHack-Navigation-Custom-v0\",\n",
        "    des_file=des_file,\n",
        "    max_episode_steps=50,\n",
        ")"
      ],
      "metadata": {
        "id": "Z8rotIwNp-ZN"
      },
      "execution_count": null,
      "outputs": []
    },
    {
      "cell_type": "code",
      "source": [
        "get_des_file_rendering(des_file)"
      ],
      "metadata": {
        "colab": {
          "base_uri": "https://localhost:8080/",
          "height": 97
        },
        "id": "krdlQvfv3nxp",
        "outputId": "97ff08e9-8d9b-4a66-c621-0258cdb15f7a"
      },
      "execution_count": null,
      "outputs": [
        {
          "output_type": "execute_result",
          "data": {
            "text/plain": [
              "<PIL.Image.Image image mode=RGB size=80x80 at 0x7FC0B2E41DF0>"
            ],
            "image/png": "[encoded data removed]"
          },
          "metadata": {},
          "execution_count": 18
        }
      ]
    }
  ]
}